{
 "cells": [
  {
   "cell_type": "code",
   "execution_count": 1,
   "metadata": {},
   "outputs": [],
   "source": [
    "a = [1, 10, 15, 25, 35, 12]\n",
    "b = [13, 2, 43, 14, 52, 90]"
   ]
  },
  {
   "cell_type": "code",
   "execution_count": 32,
   "metadata": {},
   "outputs": [],
   "source": [
    "def find_closest_to(t, a, b):\n",
    "    ''' returning the closest value to t within arrays a and b '''\n",
    "    distance = abs(t - (a[0] + b[0]))\n",
    "    ind_1, ind_2 = 0,0\n",
    "    \n",
    "    for index, first_num in enumerate(a):\n",
    "        for index_1, second_num in enumerate(b):\n",
    "            current_distance = abs(t - (first_num + second_num))\n",
    "            \n",
    "            if current_distance < distance:\n",
    "                distance = current_distance\n",
    "                ind_1 = index\n",
    "                ind_2 = index_1\n",
    "    \n",
    "    return f'distance from closest: {distance}, first array index: {ind_1}, second array index: {ind_2}'"
   ]
  },
  {
   "cell_type": "code",
   "execution_count": 33,
   "metadata": {},
   "outputs": [
    {
     "data": {
      "text/plain": [
       "'distance from closest: 4, first array index: 2, second array index: 3'"
      ]
     },
     "execution_count": 33,
     "metadata": {},
     "output_type": "execute_result"
    }
   ],
   "source": [
    "find_closest_to(33, a, b)"
   ]
  },
  {
   "cell_type": "code",
   "execution_count": null,
   "metadata": {},
   "outputs": [],
   "source": []
  }
 ],
 "metadata": {
  "kernelspec": {
   "display_name": "Python 3",
   "language": "python",
   "name": "python3"
  },
  "language_info": {
   "codemirror_mode": {
    "name": "ipython",
    "version": 3
   },
   "file_extension": ".py",
   "mimetype": "text/x-python",
   "name": "python",
   "nbconvert_exporter": "python",
   "pygments_lexer": "ipython3",
   "version": "3.7.5"
  }
 },
 "nbformat": 4,
 "nbformat_minor": 4
}
