{
 "cells": [
  {
   "cell_type": "markdown",
   "metadata": {},
   "source": [
    "Given two arrays, determine if both arrays contain exactly the same elements, regardless of their order.\n"
   ]
  },
  {
   "cell_type": "markdown",
   "metadata": {},
   "source": [
    "no duplicates\n",
    "can use builtin data structures"
   ]
  },
  {
   "cell_type": "markdown",
   "metadata": {},
   "source": [
    "check lengths of both\n",
    "\n",
    "set difference time complexity O(n) space O(n)\n",
    "\n",
    "use 1 set, loop ar_1 add everything. Loop over ar_2 subtract everyhting"
   ]
  },
  {
   "cell_type": "code",
   "execution_count": 1,
   "metadata": {},
   "outputs": [],
   "source": [
    "def check_same(ar_1, ar_2):\n",
    "    if len(ar_1) != len(ar_2):\n",
    "        return False\n",
    "    \n",
    "    seen_items_set = set(ar_1)\n",
    "    \n",
    "    for item in ar_2:\n",
    "        if item not in seen_items_set:\n",
    "            return False\n",
    "        \n",
    "        seen_items_set.remove(item)\n",
    "        \n",
    "    \n",
    "    if len(seen_items_set) > 0:\n",
    "        return False\n",
    "    \n",
    "    return True"
   ]
  },
  {
   "cell_type": "code",
   "execution_count": 4,
   "metadata": {},
   "outputs": [
    {
     "data": {
      "text/plain": [
       "False"
      ]
     },
     "execution_count": 4,
     "metadata": {},
     "output_type": "execute_result"
    }
   ],
   "source": [
    "a = [1, 2, 3, 4, 5]\n",
    "b = [2, 3, 1, 5, 9]\n",
    "\n",
    "check_same(a, b)"
   ]
  },
  {
   "cell_type": "markdown",
   "metadata": {},
   "source": [
    "Were duplicates: O(n) but it would be like O(5n), much more space too"
   ]
  },
  {
   "cell_type": "code",
   "execution_count": null,
   "metadata": {},
   "outputs": [],
   "source": []
  }
 ],
 "metadata": {
  "kernelspec": {
   "display_name": "Python 3",
   "language": "python",
   "name": "python3"
  },
  "language_info": {
   "codemirror_mode": {
    "name": "ipython",
    "version": 3
   },
   "file_extension": ".py",
   "mimetype": "text/x-python",
   "name": "python",
   "nbconvert_exporter": "python",
   "pygments_lexer": "ipython3",
   "version": "3.7.5"
  }
 },
 "nbformat": 4,
 "nbformat_minor": 4
}
